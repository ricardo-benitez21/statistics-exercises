{
 "cells": [
  {
   "cell_type": "code",
   "execution_count": 1,
   "id": "ec8d661b-4b33-428b-8c92-2e327d4d6a8b",
   "metadata": {
    "tags": []
   },
   "outputs": [],
   "source": [
    "# pyplot for plotting\n",
    "import matplotlib.pyplot as plt\n",
    "# numpy for vectorized array operations\n",
    "import numpy as np\n",
    "# pandas for proper tabular manipulation\n",
    "import pandas as pd\n",
    "# scipy stats for our subversions\n",
    "from scipy import stats"
   ]
  },
  {
   "cell_type": "code",
   "execution_count": 51,
   "id": "3b161f70-ec64-4b1b-8cbd-f25fa22eb083",
   "metadata": {
    "tags": []
   },
   "outputs": [],
   "source": [
    "mean = 2\n",
    "cars_dist = stats.poisson(mean)"
   ]
  },
  {
   "cell_type": "code",
   "execution_count": 53,
   "id": "39b77d6d-6f30-4473-8e1e-0e0350e8b888",
   "metadata": {
    "tags": []
   },
   "outputs": [
    {
     "data": {
      "image/png": "[encoded data removed]",
      "text/plain": [
       "<Figure size 640x480 with 1 Axes>"
      ]
     },
     "metadata": {},
     "output_type": "display_data"
    }
   ],
   "source": [
    "xs = range(12)\n",
    "ys = [cars_dist.pmf(x) for x in xs]\n",
    "plt.bar(xs, ys)\n",
    "plt.title('Probability of Number of Cars in the Lunch Hour Window')\n",
    "plt.show;"
   ]
  },
  {
   "cell_type": "markdown",
   "id": "753a2877-d377-4d00-9f9f-2a47d537f358",
   "metadata": {},
   "source": [
    "# 1. A bank found that the average number of cars waiting during the noon hour at a drive-up window follows a Poisson distribution with a mean of 2 cars. Make a chart of this distribution and answer these questions concerning the probability of cars waiting at the drive-up window.\n",
    "\n",
    "- What is the probability that no cars drive up in the noon hour?\n",
    "- What is the probability that 3 or more cars come through the drive through?\n",
    "- How likely is it that the drive through gets at least 1 car?"
   ]
  },
  {
   "cell_type": "markdown",
   "id": "8a6b9710-1bc8-407d-b67a-f64a02a2dd7e",
   "metadata": {},
   "source": [
    "### * What is the probability that no cars drive up in the noon hour?"
   ]
  },
  {
   "cell_type": "code",
   "execution_count": 54,
   "id": "ce109eb1-9cd3-4822-a2fc-329e1df2ae08",
   "metadata": {
    "tags": []
   },
   "outputs": [
    {
     "data": {
      "text/plain": [
       "0.1353352832366127"
      ]
     },
     "execution_count": 54,
     "metadata": {},
     "output_type": "execute_result"
    }
   ],
   "source": [
    "cars_dist.pmf(0)"
   ]
  },
  {
   "cell_type": "markdown",
   "id": "5f37adb4-ff81-40b3-aee2-2d432c113e64",
   "metadata": {},
   "source": [
    "### * What is the probability that 3 or more cars come through the drive through?"
   ]
  },
  {
   "cell_type": "code",
   "execution_count": 41,
   "id": "f0953bf5-940e-432f-a9e7-b8d9a268d5ea",
   "metadata": {
    "tags": []
   },
   "outputs": [
    {
     "data": {
      "text/plain": [
       "0.14287653950145296"
      ]
     },
     "execution_count": 41,
     "metadata": {},
     "output_type": "execute_result"
    }
   ],
   "source": []
  },
  {
   "cell_type": "markdown",
   "id": "a414fa3d-1f16-447a-bf2d-294904dd3205",
   "metadata": {
    "tags": []
   },
   "source": [
    "### * How likely is it that the drive through gets at least 1 car?"
   ]
  },
  {
   "cell_type": "code",
   "execution_count": 42,
   "id": "982e324d-a952-44f4-9584-1c4321d08b0e",
   "metadata": {
    "tags": []
   },
   "outputs": [
    {
     "data": {
      "text/plain": [
       "0.5939941502901616"
      ]
     },
     "execution_count": 42,
     "metadata": {},
     "output_type": "execute_result"
    }
   ],
   "source": []
  },
  {
   "cell_type": "markdown",
   "id": "ddfac3fb-0af8-4616-9374-b447dac41805",
   "metadata": {},
   "source": [
    "# 2. Grades of State University graduates are normally distributed with a mean of 3.0 and a standard deviation of .3. Calculate the following:\n",
    "\n",
    "- What grade point average is required to be in the top 5% of the graduating class?\n",
    "- What GPA constitutes the bottom 15% of the class?\n",
    "- An eccentric alumnus left scholarship money for students in the third decile from the bottom of their class. Determine the range of the third decile. Would a student with a 2.8 grade point average qualify for this scholarship?\n",
    "- If I have a GPA of 3.5, what percentile am I in?"
   ]
  },
  {
   "cell_type": "code",
   "execution_count": 55,
   "id": "5cff51d5-43d5-477b-abb5-4275c5421eea",
   "metadata": {
    "tags": []
   },
   "outputs": [],
   "source": [
    "mean = 3.0\n",
    "std = 0.3\n",
    "grades_dist = stats.norm(mean,std)"
   ]
  },
  {
   "cell_type": "markdown",
   "id": "3f8ff35b-53c5-42d9-ac18-5029c5debff9",
   "metadata": {},
   "source": [
    "### * What grade point average is required to be in the top 5% of the graduating class?"
   ]
  },
  {
   "cell_type": "code",
   "execution_count": 57,
   "id": "86e9d317-7b6c-4a6d-bba3-b981cb17acd9",
   "metadata": {
    "tags": []
   },
   "outputs": [
    {
     "data": {
      "text/plain": [
       "3.49"
      ]
     },
     "execution_count": 57,
     "metadata": {},
     "output_type": "execute_result"
    }
   ],
   "source": [
    "round(grades_dist.isf(0.05), 2)"
   ]
  },
  {
   "cell_type": "markdown",
   "id": "70f1d5c0-31f6-4153-9909-8a8f870ad825",
   "metadata": {},
   "source": [
    "### * What GPA constitutes the bottom 15% of the class?"
   ]
  },
  {
   "cell_type": "code",
   "execution_count": 59,
   "id": "18bea41a-e458-44f3-9642-25ca719a82e7",
   "metadata": {
    "tags": []
   },
   "outputs": [
    {
     "data": {
      "text/plain": [
       "2.69"
      ]
     },
     "execution_count": 59,
     "metadata": {},
     "output_type": "execute_result"
    }
   ],
   "source": [
    "round(grades_dist.ppf(0.15), 2)"
   ]
  },
  {
   "cell_type": "markdown",
   "id": "c6b36c4a-df22-477f-adc5-11cb41539be9",
   "metadata": {},
   "source": [
    "### * An eccentric alumnus left scholarship money for students in the third decile from the bottom of their class. Determine the range of the third decile. Would a student with a 2.8 grade point average qualify for this scholarship?"
   ]
  },
  {
   "cell_type": "code",
   "execution_count": 60,
   "id": "e705535c-9bfc-4923-8950-562ff8fe13c7",
   "metadata": {
    "tags": []
   },
   "outputs": [
    {
     "data": {
      "text/plain": [
       "2.7475136299281258"
      ]
     },
     "execution_count": 60,
     "metadata": {},
     "output_type": "execute_result"
    }
   ],
   "source": [
    "grades_dist.ppf(0.2)"
   ]
  },
  {
   "cell_type": "code",
   "execution_count": 61,
   "id": "b82bf4fb-e8c4-4667-ac3a-bed55c98fbe0",
   "metadata": {
    "tags": []
   },
   "outputs": [
    {
     "data": {
      "text/plain": [
       "2.842679846187588"
      ]
     },
     "execution_count": 61,
     "metadata": {},
     "output_type": "execute_result"
    }
   ],
   "source": [
    "grades_dist.ppf(0.3)"
   ]
  },
  {
   "cell_type": "code",
   "execution_count": 74,
   "id": "396fe626-b284-4483-91c7-082c00cf99ff",
   "metadata": {
    "tags": []
   },
   "outputs": [],
   "source": [
    "lower_fence, upper_fence = grades_dist.ppf([0.2, 0.3])"
   ]
  },
  {
   "cell_type": "markdown",
   "id": "f6e05e9d-4019-42fe-9d72-15db21162ced",
   "metadata": {},
   "source": [
    "### * If I have a GPA of 3.5, what percentile am I in?"
   ]
  },
  {
   "cell_type": "code",
   "execution_count": 72,
   "id": "ed9e0bcd-0b87-4a08-90a6-5a670cfc011a",
   "metadata": {
    "tags": []
   },
   "outputs": [
    {
     "data": {
      "text/plain": [
       "0.95"
      ]
     },
     "execution_count": 72,
     "metadata": {},
     "output_type": "execute_result"
    }
   ],
   "source": [
    "round(grades_dist.cdf(3.5), 2)"
   ]
  },
  {
   "cell_type": "code",
   "execution_count": 73,
   "id": "6d1ed8b3-f18a-469c-ada0-2ba73a0e6124",
   "metadata": {
    "tags": []
   },
   "outputs": [
    {
     "data": {
      "text/plain": [
       "0.05"
      ]
     },
     "execution_count": 73,
     "metadata": {},
     "output_type": "execute_result"
    }
   ],
   "source": [
    "round(grades_dist.sf(3.5), 2)"
   ]
  },
  {
   "cell_type": "markdown",
   "id": "d8600253-71ee-452e-954b-652d3c6ee0d2",
   "metadata": {},
   "source": [
    "# 3. A marketing website has an average click-through rate of 2%. One day they observe 4326 visitors and 97 click-throughs. How likely is it that this many people or more click through?"
   ]
  },
  {
   "cell_type": "code",
   "execution_count": 71,
   "id": "5f6feabe-04a4-405c-bd3c-c8047efe65ba",
   "metadata": {
    "tags": []
   },
   "outputs": [
    {
     "data": {
      "text/plain": [
       "0.14"
      ]
     },
     "execution_count": 71,
     "metadata": {},
     "output_type": "execute_result"
    }
   ],
   "source": [
    "clicks_dist = stats.binom(4326, 0.02)\n",
    "round(clicks_dist.sf(96), 2)"
   ]
  },
  {
   "cell_type": "markdown",
   "id": "8b297f84-bdb0-40f5-b985-63282314367e",
   "metadata": {},
   "source": [
    "# 4. You are working on some statistics homework consisting of 100 questions where all of the answers are a probability rounded to the hundreths place. Looking to save time, you put down random probabilities as the answer to each question.\n",
    "\n",
    " - What is the probability that at least one of your first 60 answers is correct?"
   ]
  },
  {
   "cell_type": "code",
   "execution_count": 70,
   "id": "b8eb69f0-40c8-4be1-b4f3-29c0bfddd704",
   "metadata": {
    "tags": []
   },
   "outputs": [
    {
     "data": {
      "text/plain": [
       "0.45"
      ]
     },
     "execution_count": 70,
     "metadata": {},
     "output_type": "execute_result"
    }
   ],
   "source": [
    "prob_success = 1 / 101\n",
    "num_trials = 60\n",
    "homework_dist = stats.binom(num_trials, prob_success)\n",
    "round(homework_dist.sf(0), 2)"
   ]
  },
  {
   "cell_type": "markdown",
   "id": "b21850ff-9a1e-4efc-8c04-9de20418488d",
   "metadata": {},
   "source": [
    "# 5. The codeup staff tends to get upset when the student break area is not cleaned up. Suppose that there's a 3% chance that any one student cleans the break area when they visit it, and, on any given day, about 90% of the 3 active cohorts of 22 students visit the break area. How likely is it that the break area gets cleaned up each day? How likely is it that it goes two days without getting cleaned up? All week?"
   ]
  },
  {
   "cell_type": "code",
   "execution_count": 75,
   "id": "9e38ee46-570b-4cb2-8145-6fe1261b4960",
   "metadata": {
    "tags": []
   },
   "outputs": [],
   "source": [
    "prob_success = 0.03\n",
    "num_trials = int(0.9 * 3 * 22)"
   ]
  },
  {
   "cell_type": "code",
   "execution_count": 76,
   "id": "aec4427a-adce-4204-8e90-31613acff85b",
   "metadata": {
    "tags": []
   },
   "outputs": [],
   "source": [
    "cleaning_dist = stats.binom(num_trials, prob_success)"
   ]
  },
  {
   "cell_type": "code",
   "execution_count": 77,
   "id": "cab81ad0-bfc4-4e30-bc3a-d3d8fde63876",
   "metadata": {
    "tags": []
   },
   "outputs": [
    {
     "data": {
      "text/plain": [
       "0.83"
      ]
     },
     "execution_count": 77,
     "metadata": {},
     "output_type": "execute_result"
    }
   ],
   "source": [
    "round(cleaning_dist.sf(0), 2)"
   ]
  },
  {
   "cell_type": "code",
   "execution_count": 79,
   "id": "a424c7e0-9666-427a-a411-172ddb5d36fc",
   "metadata": {
    "tags": []
   },
   "outputs": [
    {
     "data": {
      "text/plain": [
       "0.026658541032798935"
      ]
     },
     "execution_count": 79,
     "metadata": {},
     "output_type": "execute_result"
    }
   ],
   "source": [
    "# two days\n",
    "stats.binom(((num_trials * 2) + 1), prob_success).pmf(0)"
   ]
  },
  {
   "cell_type": "code",
   "execution_count": 80,
   "id": "4c0f3572-b572-4be2-909b-6b7fcff89959",
   "metadata": {
    "tags": []
   },
   "outputs": [],
   "source": [
    "# all week\n",
    "num_trials = round((0.9 * 3 * 22) * 5, 0)\n",
    "cleaning_dist = stats.binom(num_trials, prob_success)"
   ]
  },
  {
   "cell_type": "code",
   "execution_count": 81,
   "id": "7393c262-6965-4859-a9c4-bed576e4f46d",
   "metadata": {
    "tags": []
   },
   "outputs": [
    {
     "data": {
      "text/plain": [
       "0.00011781621791054943"
      ]
     },
     "execution_count": 81,
     "metadata": {},
     "output_type": "execute_result"
    }
   ],
   "source": [
    "cleaning_dist.pmf(0)"
   ]
  },
  {
   "cell_type": "markdown",
   "id": "ab59f11b-6bf6-4323-8caa-3f0cfe28543c",
   "metadata": {},
   "source": [
    "# 6. You want to get lunch at La Panaderia, but notice that the line is usually very long at lunchtime. After several weeks of careful observation, you notice that the average number of people in line when your lunch break starts is normally distributed with a mean of 15 and standard deviation of 3. If it takes 2 minutes for each person to order, and 10 minutes from ordering to getting your food, what is the likelihood that you have at least 15 minutes left to eat your food before you have to go back to class? Assume you have one hour for lunch, and ignore travel time to and from La Panaderia."
   ]
  },
  {
   "cell_type": "code",
   "execution_count": 82,
   "id": "a1f0de36-af22-43ae-853d-24ca0c4845ba",
   "metadata": {
    "tags": []
   },
   "outputs": [],
   "source": [
    "μ = 15 * 2\n",
    "σ = 3 * 2"
   ]
  },
  {
   "cell_type": "code",
   "execution_count": 83,
   "id": "8aa1e258-cbb0-45aa-b172-88a003351257",
   "metadata": {
    "tags": []
   },
   "outputs": [],
   "source": [
    "line_dist = stats.norm(μ, σ)"
   ]
  },
  {
   "cell_type": "code",
   "execution_count": 84,
   "id": "a7585d0c-2ba5-43cc-9390-d30279b2b460",
   "metadata": {
    "tags": []
   },
   "outputs": [
    {
     "data": {
      "text/plain": [
       "33"
      ]
     },
     "execution_count": 84,
     "metadata": {},
     "output_type": "execute_result"
    }
   ],
   "source": [
    "60 - (15 + 10 + 2) # lunch hour minus eat time, minus order time, minus wait time"
   ]
  },
  {
   "cell_type": "code",
   "execution_count": 85,
   "id": "653b269c-38d7-486d-80d6-cbf947f68a85",
   "metadata": {
    "tags": []
   },
   "outputs": [
    {
     "data": {
      "text/plain": [
       "0.69"
      ]
     },
     "execution_count": 85,
     "metadata": {},
     "output_type": "execute_result"
    }
   ],
   "source": [
    "# we want the prob of the line taking 33 minutes or less\n",
    "# after all the constant factors that we subtracted\n",
    "round(line_dist.cdf(33), 2)"
   ]
  },
  {
   "cell_type": "markdown",
   "id": "26bd3363-09d2-4639-ae9d-825accae9a11",
   "metadata": {},
   "source": [
    "# 7. Connect to the employees database and find the average salary of current employees, along with the standard deviation. For the following questions, calculate the answer based on modeling the employees salaries with a normal distribution defined by the calculated mean and standard deviation then compare this answer to the actual values present in the salaries dataset.\n",
    "\n",
    "* a. What percent of employees earn less than 60,000?\n",
    "* b. What percent of employees earn more than 95,000?\n",
    "* c. What percent of employees earn between 65,000 and 80,000?\n",
    "* d. What do the top 5% of employees make?"
   ]
  },
  {
   "cell_type": "code",
   "execution_count": 88,
   "id": "2db1d500-12fc-4fa6-8ab1-47f3bade7dcd",
   "metadata": {
    "tags": []
   },
   "outputs": [],
   "source": [
    "from env import user, password, host\n",
    "import pandas as pd"
   ]
  },
  {
   "cell_type": "code",
   "execution_count": 92,
   "id": "8897565e-5bad-4ffc-a850-a69d880a2e3f",
   "metadata": {
    "tags": []
   },
   "outputs": [],
   "source": [
    "# we want to connect to the db, and makea request\n",
    "# my query:\n",
    "# \n",
    "query = '''\n",
    "SELECT * FROM salaries s WHERE s.to_date > NOW()\n",
    "'''\n",
    "connection = f'mysql+pymysql://{user}:{password}@{host}/employees'\n",
    "\n",
    "# try reading that into pandas:\n",
    "df = pd.read_sql(query, connection)"
   ]
  },
  {
   "cell_type": "code",
   "execution_count": 93,
   "id": "64dc9503-dae6-45ae-baf0-6a9638d3fa61",
   "metadata": {},
   "outputs": [],
   "source": [
    "# lets rip out the std and mean from the salaries here:\n",
    "sal_stats = df.salary.agg(['mean', 'std'])"
   ]
  },
  {
   "cell_type": "code",
   "execution_count": 94,
   "id": "23a46b93-79a9-49d4-b627-9f4b6d9a8407",
   "metadata": {
    "tags": []
   },
   "outputs": [
    {
     "data": {
      "text/plain": [
       "array([72012.23585731, 17309.99538025])"
      ]
     },
     "execution_count": 94,
     "metadata": {},
     "output_type": "execute_result"
    }
   ],
   "source": [
    "sal_stats.values"
   ]
  },
  {
   "cell_type": "code",
   "execution_count": 95,
   "id": "8936cc53-5dcd-4035-8ef3-9159cb73bbb5",
   "metadata": {
    "tags": []
   },
   "outputs": [],
   "source": [
    "# we can use the star to unpack positional args\n",
    "# from an iterable in the right order\n",
    "#  ** will unpack kwargs from a dictionary\n",
    "salary_dist = stats.norm(*sal_stats.values)"
   ]
  },
  {
   "cell_type": "markdown",
   "id": "51b580cd-c3cc-489f-8770-dde790c88ecb",
   "metadata": {},
   "source": [
    "### a. What percent of employees earn less than 60,000?"
   ]
  },
  {
   "cell_type": "code",
   "execution_count": 96,
   "id": "8f9304b2-cb5c-4985-966b-51b6b81201c7",
   "metadata": {
    "tags": []
   },
   "outputs": [
    {
     "data": {
      "text/plain": [
       "0.24"
      ]
     },
     "execution_count": 96,
     "metadata": {},
     "output_type": "execute_result"
    }
   ],
   "source": [
    "# prob of being less than 60k?\n",
    "round(salary_dist.cdf(60_000), 2)"
   ]
  },
  {
   "cell_type": "markdown",
   "id": "10a1294e-9b82-4d1d-85db-eddf20318f25",
   "metadata": {},
   "source": [
    "### b. What percent of employees earn more than 95,000?"
   ]
  },
  {
   "cell_type": "code",
   "execution_count": 97,
   "id": "fcc59e37-178f-4e00-90ca-42c3d6e961b8",
   "metadata": {},
   "outputs": [
    {
     "data": {
      "text/plain": [
       "0.09"
      ]
     },
     "execution_count": 97,
     "metadata": {},
     "output_type": "execute_result"
    }
   ],
   "source": [
    "# prob of earning more than 95k?\n",
    "round(salary_dist.sf(95_000), 2)"
   ]
  },
  {
   "cell_type": "markdown",
   "id": "4946ec9c-582a-4fb4-b976-c1ee8add660d",
   "metadata": {},
   "source": [
    "### c. What percent of employees earn between 65,000 and 80,000?"
   ]
  },
  {
   "cell_type": "code",
   "execution_count": 98,
   "id": "0a07830f-298f-476a-8ce2-071b85773325",
   "metadata": {},
   "outputs": [],
   "source": [
    "# cumulative probability of the higher salary,\n",
    "# cumulative probability of the lower salary\n",
    "# get the difference, get the range between the two in terms of\n",
    "# percentage.\n",
    "high_sal, lower_sal = salary_dist.cdf([80_000, 65_000])\n",
    "salary_bracket = high_sal - lower_sal"
   ]
  },
  {
   "cell_type": "code",
   "execution_count": 99,
   "id": "cec14510-81f2-4390-ae36-f24f064ca80c",
   "metadata": {
    "tags": []
   },
   "outputs": [
    {
     "data": {
      "text/plain": [
       "0.34"
      ]
     },
     "execution_count": 99,
     "metadata": {},
     "output_type": "execute_result"
    }
   ],
   "source": [
    "round(salary_bracket, 2)"
   ]
  },
  {
   "cell_type": "markdown",
   "id": "f6dabb34-cdd6-463d-bd43-3b114dec0829",
   "metadata": {},
   "source": [
    "### d. What do the top 5% of employees make?"
   ]
  },
  {
   "cell_type": "code",
   "execution_count": 100,
   "id": "e1ff08f6-c0c9-4e55-99dd-72e259c68ffa",
   "metadata": {},
   "outputs": [
    {
     "data": {
      "text/plain": [
       "100484.64454102777"
      ]
     },
     "execution_count": 100,
     "metadata": {},
     "output_type": "execute_result"
    }
   ],
   "source": [
    "# top 5%?\n",
    "# 0.05 from the top,\n",
    "# have a prob, looking for a value:\n",
    "# inverse survival\n",
    "salary_dist.isf(0.05)"
   ]
  },
  {
   "cell_type": "code",
   "execution_count": null,
   "id": "f5a5e6b0-007f-4cee-b48c-dad44c7aecac",
   "metadata": {},
   "outputs": [],
   "source": []
  }
 ],
 "metadata": {
  "kernelspec": {
   "display_name": "Python 3 (ipykernel)",
   "language": "python",
   "name": "python3"
  },
  "language_info": {
   "codemirror_mode": {
    "name": "ipython",
    "version": 3
   },
   "file_extension": ".py",
   "mimetype": "text/x-python",
   "name": "python",
   "nbconvert_exporter": "python",
   "pygments_lexer": "ipython3",
   "version": "3.11.5"
  }
 },
 "nbformat": 4,
 "nbformat_minor": 5
}
