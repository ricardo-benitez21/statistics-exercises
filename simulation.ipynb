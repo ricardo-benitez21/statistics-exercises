{
 "cells": [
  {
   "cell_type": "code",
   "execution_count": 43,
   "id": "112ca985-229e-41e9-a85b-a7bc58191aea",
   "metadata": {
    "tags": []
   },
   "outputs": [],
   "source": [
    "import numpy as np\n",
    "import pandas as pd\n",
    "\n",
    "np.random.seed(123)\n",
    "n_trials = 100_000 #usually a high number"
   ]
  },
  {
   "cell_type": "markdown",
   "id": "41e32e59-2496-42c9-8aee-732b20611dbf",
   "metadata": {},
   "source": [
    "# 1. How likely is it that you roll doubles when rolling two dice?"
   ]
  },
  {
   "cell_type": "code",
   "execution_count": 44,
   "id": "488964e9-b790-47ea-b8d3-cefd44da00a3",
   "metadata": {
    "tags": []
   },
   "outputs": [],
   "source": [
    "outcomes = [1,2,3,4,5,6]\n",
    "n_dice = 2"
   ]
  },
  {
   "cell_type": "code",
   "execution_count": 45,
   "id": "f4d82230-691a-4385-a839-4187757c1716",
   "metadata": {
    "tags": []
   },
   "outputs": [
    {
     "data": {
      "text/plain": [
       "array([[6, 3],\n",
       "       [5, 3],\n",
       "       [2, 4],\n",
       "       ...,\n",
       "       [5, 5],\n",
       "       [5, 4],\n",
       "       [4, 6]])"
      ]
     },
     "execution_count": 45,
     "metadata": {},
     "output_type": "execute_result"
    }
   ],
   "source": [
    "rolls = np.random.choice(outcomes, (n_trials, n_dice))\n",
    "rolls"
   ]
  },
  {
   "cell_type": "code",
   "execution_count": 46,
   "id": "0d0a97cc-78e9-44de-ae58-51cd2d99ee95",
   "metadata": {
    "tags": []
   },
   "outputs": [],
   "source": [
    "doubles = rolls[:,0] == rolls[:,1]"
   ]
  },
  {
   "cell_type": "code",
   "execution_count": 47,
   "id": "b8efe09e-d2ea-43bf-90ec-c77f1923ab79",
   "metadata": {
    "tags": []
   },
   "outputs": [
    {
     "data": {
      "text/plain": [
       "16497"
      ]
     },
     "execution_count": 47,
     "metadata": {},
     "output_type": "execute_result"
    }
   ],
   "source": [
    "doubles.sum()"
   ]
  },
  {
   "cell_type": "code",
   "execution_count": 48,
   "id": "5bc4cd15-956b-4243-aaf4-57642e9fea22",
   "metadata": {
    "tags": []
   },
   "outputs": [
    {
     "data": {
      "text/plain": [
       "0.16497"
      ]
     },
     "execution_count": 48,
     "metadata": {},
     "output_type": "execute_result"
    }
   ],
   "source": [
    "doubles.sum() / len(doubles)"
   ]
  },
  {
   "cell_type": "code",
   "execution_count": 49,
   "id": "62648b19-ea5a-428a-9987-0626639a0cfe",
   "metadata": {
    "tags": []
   },
   "outputs": [
    {
     "data": {
      "text/plain": [
       "0.16497"
      ]
     },
     "execution_count": 49,
     "metadata": {},
     "output_type": "execute_result"
    }
   ],
   "source": [
    "doubles.mean()"
   ]
  },
  {
   "cell_type": "markdown",
   "id": "4d8d8c5f-e769-4491-bbd2-f10f86117c69",
   "metadata": {},
   "source": [
    "# 2. If you flip 8 coins, what is the probability of getting exactly 3 heads? What is the probability of getting more than 3 heads?"
   ]
  },
  {
   "cell_type": "code",
   "execution_count": 50,
   "id": "8b1fabe8-ae95-4301-8db5-ce81d8e9ee78",
   "metadata": {
    "tags": []
   },
   "outputs": [],
   "source": [
    "outcomes = ['h', 't']\n",
    "n_coins = 8"
   ]
  },
  {
   "cell_type": "code",
   "execution_count": 51,
   "id": "3dfced94-ae8e-4dec-8128-94b814df5487",
   "metadata": {
    "tags": []
   },
   "outputs": [
    {
     "data": {
      "text/plain": [
       "array([['t', 't', 't', ..., 't', 't', 'h'],\n",
       "       ['h', 'h', 'h', ..., 'h', 't', 'h'],\n",
       "       ['h', 'h', 't', ..., 't', 'h', 'h'],\n",
       "       ...,\n",
       "       ['h', 't', 'h', ..., 'h', 'h', 'h'],\n",
       "       ['h', 't', 't', ..., 't', 'h', 't'],\n",
       "       ['h', 't', 't', ..., 'h', 'h', 'h']], dtype='<U1')"
      ]
     },
     "execution_count": 51,
     "metadata": {},
     "output_type": "execute_result"
    }
   ],
   "source": [
    "flips = np.random.choice(outcomes, (n_trials, n_coins))\n",
    "flips"
   ]
  },
  {
   "cell_type": "code",
   "execution_count": 52,
   "id": "c751e036-0b03-4ba5-b63f-8cb13a3a8267",
   "metadata": {
    "tags": []
   },
   "outputs": [
    {
     "data": {
      "text/plain": [
       "array([2, 6, 4, ..., 6, 4, 6])"
      ]
     },
     "execution_count": 52,
     "metadata": {},
     "output_type": "execute_result"
    }
   ],
   "source": [
    "heads_per_sim = (flips == 'h').sum(axis=1)\n",
    "heads_per_sim"
   ]
  },
  {
   "cell_type": "code",
   "execution_count": 53,
   "id": "55597afb-be6b-4076-a6e2-660f347f6faf",
   "metadata": {
    "tags": []
   },
   "outputs": [
    {
     "data": {
      "text/plain": [
       "0.22128"
      ]
     },
     "execution_count": 53,
     "metadata": {},
     "output_type": "execute_result"
    }
   ],
   "source": [
    "(heads_per_sim == 3).mean()"
   ]
  },
  {
   "cell_type": "code",
   "execution_count": 54,
   "id": "c2a386cc-c30c-4059-819a-3d791731f164",
   "metadata": {
    "tags": []
   },
   "outputs": [
    {
     "data": {
      "text/plain": [
       "0.63372"
      ]
     },
     "execution_count": 54,
     "metadata": {},
     "output_type": "execute_result"
    }
   ],
   "source": [
    "(heads_per_sim > 3).mean()"
   ]
  },
  {
   "cell_type": "markdown",
   "id": "28e68e4b-470c-4a2f-9c07-000e65d0da62",
   "metadata": {},
   "source": [
    "# 3. There are approximitely 3 web development cohorts for every 1 data science cohort at Codeup. Assuming that Codeup randomly selects an alumni to put on a billboard, what are the odds that the two billboards I drive past both have data science students on them?"
   ]
  },
  {
   "cell_type": "code",
   "execution_count": 57,
   "id": "164de474-ee57-477c-b675-562516346ce1",
   "metadata": {
    "tags": []
   },
   "outputs": [],
   "source": [
    "outcomes = ['ds', 'wd', 'wd', 'wd']\n",
    "n_billboards = 2"
   ]
  },
  {
   "cell_type": "code",
   "execution_count": 60,
   "id": "96f418cf-6e6a-457a-a0e2-cbfa80d07803",
   "metadata": {
    "tags": []
   },
   "outputs": [
    {
     "data": {
      "text/plain": [
       "array([['ds', 'wd'],\n",
       "       ['wd', 'wd'],\n",
       "       ['wd', 'wd'],\n",
       "       ...,\n",
       "       ['wd', 'wd'],\n",
       "       ['wd', 'wd'],\n",
       "       ['wd', 'ds']], dtype='<U2')"
      ]
     },
     "execution_count": 60,
     "metadata": {},
     "output_type": "execute_result"
    }
   ],
   "source": [
    "billboards = np.random.choice(outcomes, (n_trials, n_billboards))\n",
    "billboards"
   ]
  },
  {
   "cell_type": "code",
   "execution_count": 63,
   "id": "85674a51-e25c-4b04-ac44-125ccf83d511",
   "metadata": {
    "tags": []
   },
   "outputs": [
    {
     "data": {
      "text/plain": [
       "array([1, 0, 0, ..., 0, 0, 1])"
      ]
     },
     "execution_count": 63,
     "metadata": {},
     "output_type": "execute_result"
    }
   ],
   "source": [
    "ds_billboards = (billboards == 'ds').sum(axis=1)\n",
    "ds_billboards                \n"
   ]
  },
  {
   "cell_type": "code",
   "execution_count": 64,
   "id": "f00b7e20-29f8-47c1-b3b3-457952ac8ca0",
   "metadata": {
    "tags": []
   },
   "outputs": [
    {
     "data": {
      "text/plain": [
       "0.0611"
      ]
     },
     "execution_count": 64,
     "metadata": {},
     "output_type": "execute_result"
    }
   ],
   "source": [
    "(ds_billboards == 2).mean()"
   ]
  },
  {
   "cell_type": "markdown",
   "id": "5d9d772a-eb70-41b4-9cd8-51c09396e41e",
   "metadata": {},
   "source": [
    "# 4. Codeup students buy, on average, 3 poptart packages with a standard deviation of 1.5 a day from the snack vending machine. If on monday the machine is restocked with 17 poptart packages, how likely is it that I will be able to buy some poptarts on Friday afternoon? (Remember, if you have mean and standard deviation, use the np.random.normal) You'll need to make a judgement call on how to handle some of your values"
   ]
  },
  {
   "cell_type": "code",
   "execution_count": 66,
   "id": "986c699a-1f33-4a46-945e-133097fc8701",
   "metadata": {
    "tags": []
   },
   "outputs": [],
   "source": [
    "mean = 3\n",
    "sd = 1.5\n",
    "days = 5"
   ]
  },
  {
   "cell_type": "code",
   "execution_count": 71,
   "id": "25d082ab-9c53-4103-88bb-8ad0d3fc5f13",
   "metadata": {
    "tags": []
   },
   "outputs": [
    {
     "data": {
      "text/plain": [
       "array([[ 3.962348  ,  1.45164757,  2.93284504,  1.43791589,  1.64831858],\n",
       "       [ 3.88148599,  3.74193882,  2.75455715,  1.54376796,  4.12079202],\n",
       "       [ 6.57506118,  0.50668804,  2.68113679,  3.73943658,  3.24462663],\n",
       "       ...,\n",
       "       [-1.92611912,  2.04926776,  1.81511475,  0.73564384,  1.26828257],\n",
       "       [ 4.87596567,  1.79061766,  2.26956475,  4.37456785,  1.07224723],\n",
       "       [ 0.88966382,  4.27061216,  4.12939172,  4.52618866,  1.48115626]])"
      ]
     },
     "execution_count": 71,
     "metadata": {},
     "output_type": "execute_result"
    }
   ],
   "source": [
    "poptarts_purchased_daily= np.random.normal(3, 1.5, (n_trials, days))\n",
    "poptarts_purchased_daily"
   ]
  },
  {
   "cell_type": "code",
   "execution_count": 73,
   "id": "9956e0db-e4f0-4686-9b99-93418d78da5c",
   "metadata": {
    "tags": []
   },
   "outputs": [
    {
     "data": {
      "text/plain": [
       "array([11.43307508, 16.04254193, 16.74694922, ...,  3.94218981,\n",
       "       14.38296316, 15.29701263])"
      ]
     },
     "execution_count": 73,
     "metadata": {},
     "output_type": "execute_result"
    }
   ],
   "source": [
    "poptarts_purchased_weekly = poptarts_purchased_daily.sum(axis=1)\n",
    "poptarts_purchased_weekly"
   ]
  },
  {
   "cell_type": "code",
   "execution_count": 74,
   "id": "bba348e1-8561-41b7-8402-a4b748422d44",
   "metadata": {
    "tags": []
   },
   "outputs": [
    {
     "data": {
      "text/plain": [
       "array([ True, False, False, ...,  True,  True,  True])"
      ]
     },
     "execution_count": 74,
     "metadata": {},
     "output_type": "execute_result"
    }
   ],
   "source": [
    "(17 - poptarts_purchased_weekly) > 1"
   ]
  },
  {
   "cell_type": "code",
   "execution_count": 75,
   "id": "06e032fa-9623-40bb-b928-7f60f1962df1",
   "metadata": {
    "tags": []
   },
   "outputs": [
    {
     "data": {
      "text/plain": [
       "0.61837"
      ]
     },
     "execution_count": 75,
     "metadata": {},
     "output_type": "execute_result"
    }
   ],
   "source": [
    "((17 - poptarts_purchased_weekly) > 1).mean()"
   ]
  },
  {
   "cell_type": "markdown",
   "id": "00dfb15c-449a-47b4-80a6-6b8d0e39fc05",
   "metadata": {},
   "source": [
    "# 5. Compare Heights\n",
    "\n",
    "- Men have an average height of 178 cm and standard deviation of 8cm.\n",
    "- Women have a mean of 170, sd = 6cm.\n",
    "- Since you have means and standard deviations, you can use np.random.normal to generate observations.\n",
    "- If a man and woman are chosen at random, what is the likelihood the woman is taller than the man?"
   ]
  },
  {
   "cell_type": "markdown",
   "id": "41058f90-4cfb-49b4-bc94-d7f475821084",
   "metadata": {},
   "source": [
    "### * If a man and woman are chosen at random, what is the likelihood the woman is taller than the man?"
   ]
  },
  {
   "cell_type": "code",
   "execution_count": 76,
   "id": "02c2f71f-d626-48dc-94f2-a20d167f359c",
   "metadata": {
    "tags": []
   },
   "outputs": [],
   "source": [
    "mean_men = 178\n",
    "sd_men = 8\n",
    "\n",
    "mean_women = 170\n",
    "sd_women = 6"
   ]
  },
  {
   "cell_type": "code",
   "execution_count": 77,
   "id": "17db29e7-ecfd-4546-8821-2de791bede43",
   "metadata": {
    "tags": []
   },
   "outputs": [
    {
     "data": {
      "text/plain": [
       "array([174.23278008, 181.97632948, 182.11543645, ..., 173.59594119,\n",
       "       165.6197597 , 170.405883  ])"
      ]
     },
     "execution_count": 77,
     "metadata": {},
     "output_type": "execute_result"
    }
   ],
   "source": [
    "heights_men = np.random.normal(mean_men, sd_men, n_trials)\n",
    "heights_men"
   ]
  },
  {
   "cell_type": "code",
   "execution_count": 79,
   "id": "35370f31-fbf3-4cce-b342-39a87f6a20e3",
   "metadata": {
    "tags": []
   },
   "outputs": [
    {
     "data": {
      "text/plain": [
       "array([177.58974797, 175.65529704, 166.43884983, ..., 160.34053205,\n",
       "       175.34090914, 168.45875405])"
      ]
     },
     "execution_count": 79,
     "metadata": {},
     "output_type": "execute_result"
    }
   ],
   "source": [
    "heights_women = np.random.normal(mean_women, sd_women, n_trials)\n",
    "heights_women"
   ]
  },
  {
   "cell_type": "code",
   "execution_count": 80,
   "id": "5f2fc8f8-7e5b-4c39-9fc6-b3b3a61b3662",
   "metadata": {
    "tags": []
   },
   "outputs": [
    {
     "data": {
      "text/plain": [
       "0.21039"
      ]
     },
     "execution_count": 80,
     "metadata": {},
     "output_type": "execute_result"
    }
   ],
   "source": [
    "(heights_women > heights_men).mean()"
   ]
  },
  {
   "cell_type": "markdown",
   "id": "ae369415-e4db-4198-8c27-c4be7321a8ca",
   "metadata": {},
   "source": [
    "# 6. When installing anaconda on a student's computer, there's a 1 in 250 chance that the download is corrupted and the installation fails. What are the odds that after having 50 students download anaconda, no one has an installation issue? 100 students?"
   ]
  },
  {
   "cell_type": "code",
   "execution_count": 81,
   "id": "9b4dcaa0-9e16-4e48-903b-6fe72b44dcf6",
   "metadata": {
    "tags": []
   },
   "outputs": [],
   "source": [
    "outcomes = ['p', 'f']\n",
    "probs_outcomes = [249/250, 1/250]\n",
    "n_students = 50"
   ]
  },
  {
   "cell_type": "code",
   "execution_count": 82,
   "id": "6bf758f9-0a11-44eb-b5b8-cf602c312e67",
   "metadata": {
    "tags": []
   },
   "outputs": [
    {
     "data": {
      "text/plain": [
       "array([['p', 'p', 'p', ..., 'p', 'p', 'p'],\n",
       "       ['p', 'p', 'p', ..., 'p', 'p', 'p'],\n",
       "       ['p', 'p', 'p', ..., 'p', 'p', 'p'],\n",
       "       ...,\n",
       "       ['p', 'p', 'p', ..., 'p', 'p', 'p'],\n",
       "       ['p', 'p', 'p', ..., 'p', 'p', 'p'],\n",
       "       ['p', 'p', 'p', ..., 'p', 'p', 'p']], dtype='<U1')"
      ]
     },
     "execution_count": 82,
     "metadata": {},
     "output_type": "execute_result"
    }
   ],
   "source": [
    "installs = np.random.choice(outcomes, (n_trials, n_students),\n",
    "                 p = probs_outcomes)\n",
    "installs"
   ]
  },
  {
   "cell_type": "code",
   "execution_count": 83,
   "id": "48b1fe8c-b161-4db3-8ca6-a34fe79e0c7f",
   "metadata": {
    "tags": []
   },
   "outputs": [
    {
     "data": {
      "text/plain": [
       "array([0, 0, 3, ..., 0, 0, 0])"
      ]
     },
     "execution_count": 83,
     "metadata": {},
     "output_type": "execute_result"
    }
   ],
   "source": [
    "total_fails =(installs == 'f').sum(axis=1)\n",
    "total_fails"
   ]
  },
  {
   "cell_type": "code",
   "execution_count": 84,
   "id": "7465f6b0-ab06-4259-9dc5-57c58752680c",
   "metadata": {
    "tags": []
   },
   "outputs": [
    {
     "data": {
      "text/plain": [
       "0.81891"
      ]
     },
     "execution_count": 84,
     "metadata": {},
     "output_type": "execute_result"
    }
   ],
   "source": [
    "(total_fails == 0).mean()"
   ]
  },
  {
   "cell_type": "markdown",
   "id": "259ffa6b-adbb-4dbd-8f03-cc6088aae81e",
   "metadata": {},
   "source": [
    "### * 100 students? "
   ]
  },
  {
   "cell_type": "code",
   "execution_count": 85,
   "id": "271a9fee-ec2d-406e-8331-b38ca381458f",
   "metadata": {
    "tags": []
   },
   "outputs": [
    {
     "data": {
      "text/plain": [
       "0.67117"
      ]
     },
     "execution_count": 85,
     "metadata": {},
     "output_type": "execute_result"
    }
   ],
   "source": [
    "n_students = 100\n",
    "\n",
    "installs = np.random.choice(outcomes, (n_trials, n_students),\n",
    "                 p = probs_outcomes)\n",
    "\n",
    "total_fails =(installs == 'f').sum(axis=1)\n",
    "\n",
    "(total_fails == 0).mean()"
   ]
  },
  {
   "cell_type": "markdown",
   "id": "1bf896bd-cce7-4bf5-8437-43301b7dc8a7",
   "metadata": {},
   "source": [
    "### * What is the probability that we observe an installation issue within the first 150 students that download anaconda?\n"
   ]
  },
  {
   "cell_type": "code",
   "execution_count": 86,
   "id": "2f0e22bd-96e9-49fa-b2a0-1b5f5f182021",
   "metadata": {
    "tags": []
   },
   "outputs": [
    {
     "data": {
      "text/plain": [
       "0.45273"
      ]
     },
     "execution_count": 86,
     "metadata": {},
     "output_type": "execute_result"
    }
   ],
   "source": [
    "n_students = 150\n",
    "\n",
    "installs = np.random.choice(outcomes, (n_trials, n_students),\n",
    "                 p = probs_outcomes)\n",
    "\n",
    "total_fails =(installs == 'f').sum(axis=1)\n",
    "\n",
    "(total_fails > 0).mean()"
   ]
  },
  {
   "cell_type": "markdown",
   "id": "409dba43-e571-467e-bb67-6d382177cbbf",
   "metadata": {},
   "source": [
    "### * How likely is it that 450 students all download anaconda without an issue?"
   ]
  },
  {
   "cell_type": "code",
   "execution_count": 87,
   "id": "8d6eb372-5ae9-47e6-a176-e10cd031861c",
   "metadata": {
    "tags": []
   },
   "outputs": [
    {
     "data": {
      "text/plain": [
       "0.16378"
      ]
     },
     "execution_count": 87,
     "metadata": {},
     "output_type": "execute_result"
    }
   ],
   "source": [
    "n_students = 450\n",
    "\n",
    "installs = np.random.choice(outcomes, (n_trials, n_students),\n",
    "                 p = probs_outcomes)\n",
    "\n",
    "total_fails =(installs == 'f').sum(axis=1)\n",
    "\n",
    "(total_fails == 0).mean()"
   ]
  },
  {
   "cell_type": "markdown",
   "id": "7445f004-d90b-453c-a938-af80cff6525f",
   "metadata": {},
   "source": [
    "# 7. There's a 70% chance on any given day that there will be at least one food truck at Travis Park. However, you haven't seen a food truck there in 3 days. How unlikely is this?"
   ]
  },
  {
   "cell_type": "code",
   "execution_count": 88,
   "id": "4030632e-4b80-4359-a579-cd0dda85bfe6",
   "metadata": {
    "tags": []
   },
   "outputs": [],
   "source": [
    "p_truck = 0.7\n",
    "n_days = 3"
   ]
  },
  {
   "cell_type": "code",
   "execution_count": 90,
   "id": "78705d97-8d47-4bd0-a9c0-e78aa2e868f1",
   "metadata": {
    "tags": []
   },
   "outputs": [
    {
     "data": {
      "text/plain": [
       "array([[0.46618031, 0.78507888, 0.81968266],\n",
       "       [0.47537143, 0.65984111, 0.50098539],\n",
       "       [0.52480561, 0.62403107, 0.13200522],\n",
       "       ...,\n",
       "       [0.82926584, 0.45016315, 0.72644359],\n",
       "       [0.95957348, 0.39574926, 0.48442953],\n",
       "       [0.43635868, 0.1615422 , 0.22489574]])"
      ]
     },
     "execution_count": 90,
     "metadata": {},
     "output_type": "execute_result"
    }
   ],
   "source": [
    "is_truck_question = np.random.random((n_trials, n_days))\n",
    "is_truck_question"
   ]
  },
  {
   "cell_type": "code",
   "execution_count": 92,
   "id": "e47f4e3e-14c5-4eb3-b72d-730865abc35e",
   "metadata": {
    "tags": []
   },
   "outputs": [
    {
     "data": {
      "text/plain": [
       "array([[ True, False, False],\n",
       "       [ True,  True,  True],\n",
       "       [ True,  True,  True],\n",
       "       ...,\n",
       "       [False,  True, False],\n",
       "       [False,  True,  True],\n",
       "       [ True,  True,  True]])"
      ]
     },
     "execution_count": 92,
     "metadata": {},
     "output_type": "execute_result"
    }
   ],
   "source": [
    "yes_truck = is_truck_question < p_truck\n",
    "yes_truck"
   ]
  },
  {
   "cell_type": "code",
   "execution_count": 98,
   "id": "9db1eb8d-b0cb-466a-a312-c0961eeea67b",
   "metadata": {
    "tags": []
   },
   "outputs": [
    {
     "data": {
      "text/plain": [
       "0.02796"
      ]
     },
     "execution_count": 98,
     "metadata": {},
     "output_type": "execute_result"
    }
   ],
   "source": [
    "(yes_truck.sum(axis=1) == 0).mean()"
   ]
  },
  {
   "cell_type": "markdown",
   "id": "90c7f4ce-8937-49ce-98c2-17a35da1321c",
   "metadata": {},
   "source": [
    "### * How likely is it that a food truck will show up sometime this week?"
   ]
  },
  {
   "cell_type": "code",
   "execution_count": 97,
   "id": "3e0b450e-a26c-4329-96b6-26bcdc991e0d",
   "metadata": {
    "tags": []
   },
   "outputs": [],
   "source": [
    "n_days = 5"
   ]
  },
  {
   "cell_type": "code",
   "execution_count": 113,
   "id": "04bfbbb8-1e78-4453-a953-ecd71f0927bb",
   "metadata": {},
   "outputs": [
    {
     "data": {
      "text/plain": [
       "0.99751"
      ]
     },
     "execution_count": 113,
     "metadata": {},
     "output_type": "execute_result"
    }
   ],
   "source": [
    "is_truck_question = np.random.random((n_trials, n_days))\n",
    "\n",
    "yes_truck = is_truck_question < p_truck\n",
    "\n",
    "#update to show at least one truck shows up this week\n",
    "(yes_truck.sum(axis=1) >= 1).mean()"
   ]
  },
  {
   "cell_type": "markdown",
   "id": "6173cd6c-fc4d-403d-8177-7ca585921ea0",
   "metadata": {},
   "source": [
    "# 8. If 23 people are in the same room, what are the odds that two of them share a birthday? What if it's 20 people? 40?"
   ]
  },
  {
   "cell_type": "code",
   "execution_count": 100,
   "id": "f82abb4f-7c97-4421-9eed-34c60ee1ff13",
   "metadata": {
    "tags": []
   },
   "outputs": [],
   "source": [
    "n_people = 23\n",
    "outcomes = list(range(1,366))"
   ]
  },
  {
   "cell_type": "code",
   "execution_count": 105,
   "id": "6348a796-f97e-40b8-9d6f-77feef9a1444",
   "metadata": {
    "tags": []
   },
   "outputs": [
    {
     "data": {
      "text/plain": [
       "array([[196, 267,   3, ..., 260,  17, 269],\n",
       "       [ 65, 233,  57, ..., 260,  53,  74],\n",
       "       [363, 208, 231, ..., 214, 190, 316],\n",
       "       ...,\n",
       "       [137,  30, 352, ..., 319, 216, 218],\n",
       "       [106,   8, 266, ..., 352, 243, 128],\n",
       "       [271, 331,  18, ...,  65, 246, 159]])"
      ]
     },
     "execution_count": 105,
     "metadata": {},
     "output_type": "execute_result"
    }
   ],
   "source": [
    "birthdays = np.random.choice(outcomes, (n_trials, n_people))\n",
    "birthdays"
   ]
  },
  {
   "cell_type": "code",
   "execution_count": 106,
   "id": "5640df3f-9ba7-4b0a-8eba-ad19723009b2",
   "metadata": {
    "tags": []
   },
   "outputs": [
    {
     "data": {
      "text/html": [
       "<div>\n",
       "<style scoped>\n",
       "    .dataframe tbody tr th:only-of-type {\n",
       "        vertical-align: middle;\n",
       "    }\n",
       "\n",
       "    .dataframe tbody tr th {\n",
       "        vertical-align: top;\n",
       "    }\n",
       "\n",
       "    .dataframe thead th {\n",
       "        text-align: right;\n",
       "    }\n",
       "</style>\n",
       "<table border=\"1\" class=\"dataframe\">\n",
       "  <thead>\n",
       "    <tr style=\"text-align: right;\">\n",
       "      <th></th>\n",
       "      <th>0</th>\n",
       "      <th>1</th>\n",
       "      <th>2</th>\n",
       "      <th>3</th>\n",
       "      <th>4</th>\n",
       "      <th>5</th>\n",
       "      <th>6</th>\n",
       "      <th>7</th>\n",
       "      <th>8</th>\n",
       "      <th>9</th>\n",
       "      <th>...</th>\n",
       "      <th>13</th>\n",
       "      <th>14</th>\n",
       "      <th>15</th>\n",
       "      <th>16</th>\n",
       "      <th>17</th>\n",
       "      <th>18</th>\n",
       "      <th>19</th>\n",
       "      <th>20</th>\n",
       "      <th>21</th>\n",
       "      <th>22</th>\n",
       "    </tr>\n",
       "  </thead>\n",
       "  <tbody>\n",
       "    <tr>\n",
       "      <th>0</th>\n",
       "      <td>196</td>\n",
       "      <td>267</td>\n",
       "      <td>3</td>\n",
       "      <td>264</td>\n",
       "      <td>218</td>\n",
       "      <td>289</td>\n",
       "      <td>216</td>\n",
       "      <td>58</td>\n",
       "      <td>277</td>\n",
       "      <td>42</td>\n",
       "      <td>...</td>\n",
       "      <td>173</td>\n",
       "      <td>6</td>\n",
       "      <td>43</td>\n",
       "      <td>300</td>\n",
       "      <td>340</td>\n",
       "      <td>350</td>\n",
       "      <td>174</td>\n",
       "      <td>260</td>\n",
       "      <td>17</td>\n",
       "      <td>269</td>\n",
       "    </tr>\n",
       "    <tr>\n",
       "      <th>1</th>\n",
       "      <td>65</td>\n",
       "      <td>233</td>\n",
       "      <td>57</td>\n",
       "      <td>343</td>\n",
       "      <td>239</td>\n",
       "      <td>257</td>\n",
       "      <td>336</td>\n",
       "      <td>299</td>\n",
       "      <td>44</td>\n",
       "      <td>296</td>\n",
       "      <td>...</td>\n",
       "      <td>110</td>\n",
       "      <td>16</td>\n",
       "      <td>25</td>\n",
       "      <td>284</td>\n",
       "      <td>19</td>\n",
       "      <td>265</td>\n",
       "      <td>347</td>\n",
       "      <td>260</td>\n",
       "      <td>53</td>\n",
       "      <td>74</td>\n",
       "    </tr>\n",
       "    <tr>\n",
       "      <th>2</th>\n",
       "      <td>363</td>\n",
       "      <td>208</td>\n",
       "      <td>231</td>\n",
       "      <td>267</td>\n",
       "      <td>250</td>\n",
       "      <td>170</td>\n",
       "      <td>93</td>\n",
       "      <td>165</td>\n",
       "      <td>204</td>\n",
       "      <td>351</td>\n",
       "      <td>...</td>\n",
       "      <td>32</td>\n",
       "      <td>208</td>\n",
       "      <td>216</td>\n",
       "      <td>309</td>\n",
       "      <td>334</td>\n",
       "      <td>45</td>\n",
       "      <td>351</td>\n",
       "      <td>214</td>\n",
       "      <td>190</td>\n",
       "      <td>316</td>\n",
       "    </tr>\n",
       "    <tr>\n",
       "      <th>3</th>\n",
       "      <td>176</td>\n",
       "      <td>117</td>\n",
       "      <td>341</td>\n",
       "      <td>357</td>\n",
       "      <td>285</td>\n",
       "      <td>218</td>\n",
       "      <td>55</td>\n",
       "      <td>343</td>\n",
       "      <td>68</td>\n",
       "      <td>360</td>\n",
       "      <td>...</td>\n",
       "      <td>109</td>\n",
       "      <td>101</td>\n",
       "      <td>63</td>\n",
       "      <td>1</td>\n",
       "      <td>127</td>\n",
       "      <td>8</td>\n",
       "      <td>161</td>\n",
       "      <td>324</td>\n",
       "      <td>185</td>\n",
       "      <td>201</td>\n",
       "    </tr>\n",
       "    <tr>\n",
       "      <th>4</th>\n",
       "      <td>21</td>\n",
       "      <td>69</td>\n",
       "      <td>323</td>\n",
       "      <td>135</td>\n",
       "      <td>337</td>\n",
       "      <td>364</td>\n",
       "      <td>104</td>\n",
       "      <td>141</td>\n",
       "      <td>241</td>\n",
       "      <td>221</td>\n",
       "      <td>...</td>\n",
       "      <td>247</td>\n",
       "      <td>180</td>\n",
       "      <td>112</td>\n",
       "      <td>271</td>\n",
       "      <td>95</td>\n",
       "      <td>194</td>\n",
       "      <td>280</td>\n",
       "      <td>174</td>\n",
       "      <td>88</td>\n",
       "      <td>246</td>\n",
       "    </tr>\n",
       "    <tr>\n",
       "      <th>...</th>\n",
       "      <td>...</td>\n",
       "      <td>...</td>\n",
       "      <td>...</td>\n",
       "      <td>...</td>\n",
       "      <td>...</td>\n",
       "      <td>...</td>\n",
       "      <td>...</td>\n",
       "      <td>...</td>\n",
       "      <td>...</td>\n",
       "      <td>...</td>\n",
       "      <td>...</td>\n",
       "      <td>...</td>\n",
       "      <td>...</td>\n",
       "      <td>...</td>\n",
       "      <td>...</td>\n",
       "      <td>...</td>\n",
       "      <td>...</td>\n",
       "      <td>...</td>\n",
       "      <td>...</td>\n",
       "      <td>...</td>\n",
       "      <td>...</td>\n",
       "    </tr>\n",
       "    <tr>\n",
       "      <th>99995</th>\n",
       "      <td>37</td>\n",
       "      <td>63</td>\n",
       "      <td>73</td>\n",
       "      <td>152</td>\n",
       "      <td>345</td>\n",
       "      <td>85</td>\n",
       "      <td>139</td>\n",
       "      <td>322</td>\n",
       "      <td>28</td>\n",
       "      <td>119</td>\n",
       "      <td>...</td>\n",
       "      <td>357</td>\n",
       "      <td>305</td>\n",
       "      <td>212</td>\n",
       "      <td>259</td>\n",
       "      <td>114</td>\n",
       "      <td>303</td>\n",
       "      <td>288</td>\n",
       "      <td>45</td>\n",
       "      <td>258</td>\n",
       "      <td>18</td>\n",
       "    </tr>\n",
       "    <tr>\n",
       "      <th>99996</th>\n",
       "      <td>84</td>\n",
       "      <td>342</td>\n",
       "      <td>252</td>\n",
       "      <td>74</td>\n",
       "      <td>297</td>\n",
       "      <td>58</td>\n",
       "      <td>283</td>\n",
       "      <td>361</td>\n",
       "      <td>62</td>\n",
       "      <td>252</td>\n",
       "      <td>...</td>\n",
       "      <td>201</td>\n",
       "      <td>239</td>\n",
       "      <td>96</td>\n",
       "      <td>22</td>\n",
       "      <td>185</td>\n",
       "      <td>40</td>\n",
       "      <td>165</td>\n",
       "      <td>232</td>\n",
       "      <td>149</td>\n",
       "      <td>53</td>\n",
       "    </tr>\n",
       "    <tr>\n",
       "      <th>99997</th>\n",
       "      <td>137</td>\n",
       "      <td>30</td>\n",
       "      <td>352</td>\n",
       "      <td>128</td>\n",
       "      <td>313</td>\n",
       "      <td>223</td>\n",
       "      <td>218</td>\n",
       "      <td>295</td>\n",
       "      <td>6</td>\n",
       "      <td>122</td>\n",
       "      <td>...</td>\n",
       "      <td>263</td>\n",
       "      <td>264</td>\n",
       "      <td>13</td>\n",
       "      <td>195</td>\n",
       "      <td>182</td>\n",
       "      <td>242</td>\n",
       "      <td>30</td>\n",
       "      <td>319</td>\n",
       "      <td>216</td>\n",
       "      <td>218</td>\n",
       "    </tr>\n",
       "    <tr>\n",
       "      <th>99998</th>\n",
       "      <td>106</td>\n",
       "      <td>8</td>\n",
       "      <td>266</td>\n",
       "      <td>311</td>\n",
       "      <td>162</td>\n",
       "      <td>87</td>\n",
       "      <td>238</td>\n",
       "      <td>29</td>\n",
       "      <td>5</td>\n",
       "      <td>272</td>\n",
       "      <td>...</td>\n",
       "      <td>99</td>\n",
       "      <td>100</td>\n",
       "      <td>243</td>\n",
       "      <td>259</td>\n",
       "      <td>182</td>\n",
       "      <td>224</td>\n",
       "      <td>70</td>\n",
       "      <td>352</td>\n",
       "      <td>243</td>\n",
       "      <td>128</td>\n",
       "    </tr>\n",
       "    <tr>\n",
       "      <th>99999</th>\n",
       "      <td>271</td>\n",
       "      <td>331</td>\n",
       "      <td>18</td>\n",
       "      <td>70</td>\n",
       "      <td>288</td>\n",
       "      <td>206</td>\n",
       "      <td>185</td>\n",
       "      <td>261</td>\n",
       "      <td>135</td>\n",
       "      <td>15</td>\n",
       "      <td>...</td>\n",
       "      <td>115</td>\n",
       "      <td>56</td>\n",
       "      <td>350</td>\n",
       "      <td>358</td>\n",
       "      <td>356</td>\n",
       "      <td>76</td>\n",
       "      <td>301</td>\n",
       "      <td>65</td>\n",
       "      <td>246</td>\n",
       "      <td>159</td>\n",
       "    </tr>\n",
       "  </tbody>\n",
       "</table>\n",
       "<p>100000 rows × 23 columns</p>\n",
       "</div>"
      ],
      "text/plain": [
       "        0    1    2    3    4    5    6    7    8    9   ...   13   14   15  \\\n",
       "0      196  267    3  264  218  289  216   58  277   42  ...  173    6   43   \n",
       "1       65  233   57  343  239  257  336  299   44  296  ...  110   16   25   \n",
       "2      363  208  231  267  250  170   93  165  204  351  ...   32  208  216   \n",
       "3      176  117  341  357  285  218   55  343   68  360  ...  109  101   63   \n",
       "4       21   69  323  135  337  364  104  141  241  221  ...  247  180  112   \n",
       "...    ...  ...  ...  ...  ...  ...  ...  ...  ...  ...  ...  ...  ...  ...   \n",
       "99995   37   63   73  152  345   85  139  322   28  119  ...  357  305  212   \n",
       "99996   84  342  252   74  297   58  283  361   62  252  ...  201  239   96   \n",
       "99997  137   30  352  128  313  223  218  295    6  122  ...  263  264   13   \n",
       "99998  106    8  266  311  162   87  238   29    5  272  ...   99  100  243   \n",
       "99999  271  331   18   70  288  206  185  261  135   15  ...  115   56  350   \n",
       "\n",
       "        16   17   18   19   20   21   22  \n",
       "0      300  340  350  174  260   17  269  \n",
       "1      284   19  265  347  260   53   74  \n",
       "2      309  334   45  351  214  190  316  \n",
       "3        1  127    8  161  324  185  201  \n",
       "4      271   95  194  280  174   88  246  \n",
       "...    ...  ...  ...  ...  ...  ...  ...  \n",
       "99995  259  114  303  288   45  258   18  \n",
       "99996   22  185   40  165  232  149   53  \n",
       "99997  195  182  242   30  319  216  218  \n",
       "99998  259  182  224   70  352  243  128  \n",
       "99999  358  356   76  301   65  246  159  \n",
       "\n",
       "[100000 rows x 23 columns]"
      ]
     },
     "execution_count": 106,
     "metadata": {},
     "output_type": "execute_result"
    }
   ],
   "source": [
    "birthdays = pd.DataFrame(birthdays)\n",
    "birthdays"
   ]
  },
  {
   "cell_type": "code",
   "execution_count": 107,
   "id": "3fb1caa1-7436-48e0-81af-2804b354cdc7",
   "metadata": {
    "tags": []
   },
   "outputs": [
    {
     "data": {
      "text/plain": [
       "0        23\n",
       "1        22\n",
       "2        21\n",
       "3        23\n",
       "4        23\n",
       "         ..\n",
       "99995    23\n",
       "99996    22\n",
       "99997    21\n",
       "99998    22\n",
       "99999    23\n",
       "Length: 100000, dtype: int64"
      ]
     },
     "execution_count": 107,
     "metadata": {},
     "output_type": "execute_result"
    }
   ],
   "source": [
    "birthdays.nunique(axis=1)"
   ]
  },
  {
   "cell_type": "code",
   "execution_count": 109,
   "id": "d6b0e9a7-733b-4f1f-81e0-8dcd3f98d277",
   "metadata": {
    "tags": []
   },
   "outputs": [
    {
     "data": {
      "text/plain": [
       "0.51092"
      ]
     },
     "execution_count": 109,
     "metadata": {},
     "output_type": "execute_result"
    }
   ],
   "source": [
    "(birthdays.nunique(axis=1) < n_people).mean()"
   ]
  },
  {
   "cell_type": "markdown",
   "id": "44b2cfa8-9526-4d03-9319-b3f701e53b33",
   "metadata": {},
   "source": [
    "### * 20 people?"
   ]
  },
  {
   "cell_type": "code",
   "execution_count": 110,
   "id": "bcb1f384-a936-4bdd-8779-4defdbe275ee",
   "metadata": {
    "tags": []
   },
   "outputs": [
    {
     "data": {
      "text/plain": [
       "0.41325"
      ]
     },
     "execution_count": 110,
     "metadata": {},
     "output_type": "execute_result"
    }
   ],
   "source": [
    "n_people = 20\n",
    "\n",
    "birthdays = np.random.choice(outcomes, (n_trials, n_people))\n",
    "birthdays = pd.DataFrame(birthdays)\n",
    "\n",
    "(birthdays.nunique(axis=1) < n_people).mean()"
   ]
  },
  {
   "cell_type": "markdown",
   "id": "1d79443d-37c5-4d70-8418-66a120e3c379",
   "metadata": {},
   "source": [
    "### * 40 people?"
   ]
  },
  {
   "cell_type": "code",
   "execution_count": 112,
   "id": "fd494ef7-3eda-4cd4-842a-3ad97705075c",
   "metadata": {
    "tags": []
   },
   "outputs": [
    {
     "data": {
      "text/plain": [
       "0.88958"
      ]
     },
     "execution_count": 112,
     "metadata": {},
     "output_type": "execute_result"
    }
   ],
   "source": [
    "n_people = 40\n",
    "\n",
    "birthdays = np.random.choice(outcomes, (n_trials, n_people))\n",
    "birthdays = pd.DataFrame(birthdays)\n",
    "\n",
    "(birthdays.nunique(axis=1) < n_people).mean()"
   ]
  }
 ],
 "metadata": {
  "kernelspec": {
   "display_name": "Python 3 (ipykernel)",
   "language": "python",
   "name": "python3"
  },
  "language_info": {
   "codemirror_mode": {
    "name": "ipython",
    "version": 3
   },
   "file_extension": ".py",
   "mimetype": "text/x-python",
   "name": "python",
   "nbconvert_exporter": "python",
   "pygments_lexer": "ipython3",
   "version": "3.11.5"
  }
 },
 "nbformat": 4,
 "nbformat_minor": 5
}
